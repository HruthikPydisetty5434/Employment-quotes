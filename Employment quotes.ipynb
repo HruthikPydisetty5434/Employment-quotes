{
 "cells": [
  {
   "cell_type": "code",
   "execution_count": 1,
   "id": "cbd7e1a1",
   "metadata": {},
   "outputs": [],
   "source": [
    "from bs4 import BeautifulSoup\n",
    "import pandas as pd\n",
    "import numpy as np\n",
    "import requests\n",
    "from tqdm import tqdm\n",
    "import time\n",
    "import requests"
   ]
  },
  {
   "cell_type": "code",
   "execution_count": 2,
   "id": "762fdafc",
   "metadata": {},
   "outputs": [],
   "source": [
    "url = 'https://devtomanager.com/interviews/'"
   ]
  },
  {
   "cell_type": "code",
   "execution_count": 3,
   "id": "6fd6e200",
   "metadata": {},
   "outputs": [],
   "source": [
    "html = requests.get(url).text"
   ]
  },
  {
   "cell_type": "code",
   "execution_count": 4,
   "id": "2de6284e",
   "metadata": {},
   "outputs": [],
   "source": [
    "soup = BeautifulSoup(html, 'html.parser')"
   ]
  },
  {
   "cell_type": "code",
   "execution_count": 5,
   "id": "258f893f",
   "metadata": {},
   "outputs": [
    {
     "data": {
      "text/plain": [
       "['Aviv Ben-Yosef', 'Anand Safi', 'Shawn Axsom', 'Kevin Doyle', 'Arnab Sen']"
      ]
     },
     "execution_count": 5,
     "metadata": {},
     "output_type": "execute_result"
    }
   ],
   "source": [
    "EmployeeName = [i.text.strip().split(', ')[0] for i in soup.find_all('h5', class_ = 'card-title')]\n",
    "EmployeeName"
   ]
  },
  {
   "cell_type": "code",
   "execution_count": 6,
   "id": "2090a440",
   "metadata": {
    "scrolled": true
   },
   "outputs": [
    {
     "data": {
      "text/plain": [
       "['Tech Executive Consultant',\n",
       " 'Engineering Manager ',\n",
       " 'Senior Engineering Manager ',\n",
       " 'CTO ',\n",
       " 'Technical Delivery Manager ']"
      ]
     },
     "execution_count": 6,
     "metadata": {},
     "output_type": "execute_result"
    }
   ],
   "source": [
    "Role = [i.text.strip().split(', ')[1].split('at')[0] for i in soup.find_all('h5', class_ = 'card-title')]\n",
    "Role"
   ]
  },
  {
   "cell_type": "code",
   "execution_count": 7,
   "id": "1042d3ae",
   "metadata": {},
   "outputs": [
    {
     "data": {
      "text/plain": [
       "['null', 'Mark43', 'Docker', 'patientMpower', 'AKQA']"
      ]
     },
     "execution_count": 7,
     "metadata": {},
     "output_type": "execute_result"
    }
   ],
   "source": [
    "Company = [(len(i.text.strip().split('at '))>1 and (i.text.strip().split('at '))[1] or 'null') for i in soup.find_all('h5', class_ = 'card-title')]\n",
    "Company"
   ]
  },
  {
   "cell_type": "code",
   "execution_count": 10,
   "id": "43de7aed",
   "metadata": {},
   "outputs": [
    {
     "data": {
      "text/plain": [
       "['“I want to set up managers to succeed, no matter how much background they’ve already got.”',\n",
       " '“I very well understand where my interests lie, which is being an enabler first and then a creator rather than being a creator/ maker 100%.”',\n",
       " '“Your focus (and challenges) grows from your direct reports, to teams, to departments, executives, and then external customers and partnerships.”',\n",
       " '“If I can provide enough direction to allow people to focus on the jobs they’ll do better than I ever could, everybody wins.”',\n",
       " '“The switch to management can be highly rewarding and provide a level of independence, authority, and interactivity that a pure software engineering role may not offer.”']"
      ]
     },
     "execution_count": 10,
     "metadata": {},
     "output_type": "execute_result"
    }
   ],
   "source": [
    "Interview_quote = [i.text.strip() for i in soup.find_all('p', class_ = 'card-text')[::2]]\n",
    "Interview_quote"
   ]
  },
  {
   "cell_type": "code",
   "execution_count": null,
   "id": "c083f8fc",
   "metadata": {},
   "outputs": [],
   "source": []
  },
  {
   "cell_type": "code",
   "execution_count": 11,
   "id": "c8d5fcff",
   "metadata": {},
   "outputs": [
    {
     "data": {
      "text/plain": [
       "0   2021-08-16\n",
       "1   2021-07-19\n",
       "2   2021-07-05\n",
       "3   2021-06-21\n",
       "4   2021-05-10\n",
       "dtype: datetime64[ns]"
      ]
     },
     "execution_count": 11,
     "metadata": {},
     "output_type": "execute_result"
    }
   ],
   "source": [
    "Date = [i.text.strip().split('\\n ')[0] for i in soup.find_all('p', class_ = 'card-text')[1::2]]\n",
    "Date = pd.to_datetime(pd.Series(Date))\n",
    "Date"
   ]
  },
  {
   "cell_type": "code",
   "execution_count": 12,
   "id": "ad7409e0",
   "metadata": {},
   "outputs": [
    {
     "data": {
      "text/plain": [
       "[['#coaching', '#consulting'],\n",
       " ['#coaching', '#frontend', '#full-stack', '#public-safety'],\n",
       " ['#backend', '#coaching', '#information-systems', '#web'],\n",
       " ['#full-stack', '#health-tech'],\n",
       " ['#consulting', '#digital-marketing', '#e-commerce', '#product']]"
      ]
     },
     "execution_count": 12,
     "metadata": {},
     "output_type": "execute_result"
    }
   ],
   "source": [
    "data = []\n",
    "for r in [i.find_all('a') for i in soup.find_all('p', class_ = 'card-text')]:\n",
    "    data.append([i.text.strip() for i in r])\n",
    "data = list([x for x in data if x!= []])\n",
    "data"
   ]
  },
  {
   "cell_type": "code",
   "execution_count": 13,
   "id": "d1dd7f27",
   "metadata": {},
   "outputs": [],
   "source": [
    "def quotes():\n",
    "    EmployeeName = [i.text.strip().split(', ')[0] for i in soup.find_all('h5', class_ = 'card-title')]\n",
    "    Company = [(len(i.text.strip().split('at '))>1 and (i.text.strip().split('at '))[1] or 'null') for i in soup.find_all('h5', class_ = 'card-title')]\n",
    "    Interview_quote = [i.text.strip() for i in soup.find_all('p', class_ = 'card-text')[::2]]\n",
    "    Date = [i.text.strip().split('\\n ')[0] for i in soup.find_all('p', class_ = 'card-text')[1::2]]\n",
    "    Date = pd.to_datetime(pd.Series(Date))\n",
    "    data = list([])\n",
    "    for r in [i.find_all('a') for i in soup.find_all('p', class_ = 'card-text')]:\n",
    "        data.append([i.text.strip() for i in r])\n",
    "    data = list([x for x in data if x!= []])\n",
    "    return pd.DataFrame({'Employee Name': EmployeeName, 'Company': Company, 'Interview Quotes': Interview_quote, 'Date': Date\n",
    "                        , 'Tags': data})"
   ]
  },
  {
   "cell_type": "code",
   "execution_count": 14,
   "id": "a3e69dc3",
   "metadata": {},
   "outputs": [],
   "source": [
    "stud = 'https://devtomanager.com/interviews/page/{}/'"
   ]
  },
  {
   "cell_type": "code",
   "execution_count": 15,
   "id": "d7bfe7e7",
   "metadata": {},
   "outputs": [],
   "source": [
    "from tqdm import tqdm\n",
    "import time"
   ]
  },
  {
   "cell_type": "code",
   "execution_count": 16,
   "id": "9f345e4c",
   "metadata": {},
   "outputs": [
    {
     "name": "stderr",
     "output_type": "stream",
     "text": [
      "100%|████████████████████████████████████████████████████████████████████████████████████| 5/5 [00:17<00:00,  3.42s/it]\n"
     ]
    }
   ],
   "source": [
    "tabels = []\n",
    "for i in tqdm(range(1, 6)):\n",
    "    url1 = stud.format(i)\n",
    "    html = requests.get(url1).text\n",
    "    time.sleep(3)\n",
    "    soup = BeautifulSoup(html, 'html.parser')\n",
    "    tabels.append(quotes())"
   ]
  },
  {
   "cell_type": "code",
   "execution_count": 17,
   "id": "24764788",
   "metadata": {},
   "outputs": [
    {
     "data": {
      "text/plain": [
       "(25, 5)"
      ]
     },
     "execution_count": 17,
     "metadata": {},
     "output_type": "execute_result"
    }
   ],
   "source": [
    "data = pd.concat(tabels, axis = 0)\n",
    "data.shape"
   ]
  },
  {
   "cell_type": "code",
   "execution_count": 18,
   "id": "6fd9f7e6",
   "metadata": {},
   "outputs": [
    {
     "data": {
      "text/html": [
       "<div>\n",
       "<style scoped>\n",
       "    .dataframe tbody tr th:only-of-type {\n",
       "        vertical-align: middle;\n",
       "    }\n",
       "\n",
       "    .dataframe tbody tr th {\n",
       "        vertical-align: top;\n",
       "    }\n",
       "\n",
       "    .dataframe thead th {\n",
       "        text-align: right;\n",
       "    }\n",
       "</style>\n",
       "<table border=\"1\" class=\"dataframe\">\n",
       "  <thead>\n",
       "    <tr style=\"text-align: right;\">\n",
       "      <th></th>\n",
       "      <th>Employee Name</th>\n",
       "      <th>Company</th>\n",
       "      <th>Interview Quotes</th>\n",
       "      <th>Date</th>\n",
       "      <th>Tags</th>\n",
       "    </tr>\n",
       "  </thead>\n",
       "  <tbody>\n",
       "    <tr>\n",
       "      <th>0</th>\n",
       "      <td>Aviv Ben-Yosef</td>\n",
       "      <td>null</td>\n",
       "      <td>“I want to set up managers to succeed, no matt...</td>\n",
       "      <td>2021-08-16</td>\n",
       "      <td>[#coaching, #consulting]</td>\n",
       "    </tr>\n",
       "    <tr>\n",
       "      <th>1</th>\n",
       "      <td>Anand Safi</td>\n",
       "      <td>Mark43</td>\n",
       "      <td>“I very well understand where my interests lie...</td>\n",
       "      <td>2021-07-19</td>\n",
       "      <td>[#coaching, #frontend, #full-stack, #public-sa...</td>\n",
       "    </tr>\n",
       "    <tr>\n",
       "      <th>2</th>\n",
       "      <td>Shawn Axsom</td>\n",
       "      <td>Docker</td>\n",
       "      <td>“Your focus (and challenges) grows from your d...</td>\n",
       "      <td>2021-07-05</td>\n",
       "      <td>[#backend, #coaching, #information-systems, #web]</td>\n",
       "    </tr>\n",
       "    <tr>\n",
       "      <th>3</th>\n",
       "      <td>Kevin Doyle</td>\n",
       "      <td>patientMpower</td>\n",
       "      <td>“If I can provide enough direction to allow pe...</td>\n",
       "      <td>2021-06-21</td>\n",
       "      <td>[#full-stack, #health-tech]</td>\n",
       "    </tr>\n",
       "    <tr>\n",
       "      <th>4</th>\n",
       "      <td>Arnab Sen</td>\n",
       "      <td>AKQA</td>\n",
       "      <td>“The switch to management can be highly reward...</td>\n",
       "      <td>2021-05-10</td>\n",
       "      <td>[#consulting, #digital-marketing, #e-commerce,...</td>\n",
       "    </tr>\n",
       "  </tbody>\n",
       "</table>\n",
       "</div>"
      ],
      "text/plain": [
       "    Employee Name        Company  \\\n",
       "0  Aviv Ben-Yosef           null   \n",
       "1      Anand Safi         Mark43   \n",
       "2     Shawn Axsom         Docker   \n",
       "3     Kevin Doyle  patientMpower   \n",
       "4       Arnab Sen           AKQA   \n",
       "\n",
       "                                    Interview Quotes       Date  \\\n",
       "0  “I want to set up managers to succeed, no matt... 2021-08-16   \n",
       "1  “I very well understand where my interests lie... 2021-07-19   \n",
       "2  “Your focus (and challenges) grows from your d... 2021-07-05   \n",
       "3  “If I can provide enough direction to allow pe... 2021-06-21   \n",
       "4  “The switch to management can be highly reward... 2021-05-10   \n",
       "\n",
       "                                                Tags  \n",
       "0                           [#coaching, #consulting]  \n",
       "1  [#coaching, #frontend, #full-stack, #public-sa...  \n",
       "2  [#backend, #coaching, #information-systems, #web]  \n",
       "3                        [#full-stack, #health-tech]  \n",
       "4  [#consulting, #digital-marketing, #e-commerce,...  "
      ]
     },
     "execution_count": 18,
     "metadata": {},
     "output_type": "execute_result"
    }
   ],
   "source": [
    "data.head()"
   ]
  },
  {
   "cell_type": "code",
   "execution_count": 19,
   "id": "a0cce663",
   "metadata": {},
   "outputs": [],
   "source": [
    "data.to_csv('Employement_Quotes.csv')"
   ]
  },
  {
   "cell_type": "code",
   "execution_count": null,
   "id": "fbe13cef",
   "metadata": {},
   "outputs": [],
   "source": []
  }
 ],
 "metadata": {
  "kernelspec": {
   "display_name": "Python 3 (ipykernel)",
   "language": "python",
   "name": "python3"
  },
  "language_info": {
   "codemirror_mode": {
    "name": "ipython",
    "version": 3
   },
   "file_extension": ".py",
   "mimetype": "text/x-python",
   "name": "python",
   "nbconvert_exporter": "python",
   "pygments_lexer": "ipython3",
   "version": "3.9.7"
  }
 },
 "nbformat": 4,
 "nbformat_minor": 5
}
